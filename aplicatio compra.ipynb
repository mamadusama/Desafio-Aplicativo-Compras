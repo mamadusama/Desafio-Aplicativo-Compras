{
 "cells": [
  {
   "cell_type": "markdown",
   "id": "f3dcc64b-7d08-4c0e-ac5a-0d38face6fa4",
   "metadata": {},
   "source": [
    "# Criando um aplicativo de compras"
   ]
  },
  {
   "cell_type": "markdown",
   "id": "2c893b47-7ad6-4f49-8441-ca1b3c3d61cc",
   "metadata": {},
   "source": [
    "Desenvolva um programa que gerencie uma lista de compras. O programa deve permitir que o usuário adicione e remova itens da lista, além de visualizar a lista. O programa deve ser capaz de:\n",
    "\n",
    "- salvar a lista em um arquivo \n",
    "- carregar uma lista existente \n",
    "- gerenciar múltiplas listas de compras, cada uma em um arquivo diferente \n",
    "- salvar a lista atual em um arquivo ou sair sem salvar\n",
    "\n",
    "Organize o programa em funções. Cada função deve ter uma única responsabilidade. O programa deve ter:\n",
    "\n",
    "- função `main` que chama as outras funções \n",
    "- um menu que permite ao usuário escolher uma opção \n",
    "- uma função para cada opção do menu \n",
    "- uma função para cada operação que pode ser realizada na lista de compras\n",
    "\n",
    "**Dica**: não confunda o nome \"lista\" com a estrutura de dados lista. Uma lista de compras contém os itens e suas quantidades. A estrutura de dados utilizada deve ser, portanto, um dicionário, onde a chave é o nome\n",
    "do item e o valor é a quantidade.\n"
   ]
  },
  {
   "cell_type": "code",
   "execution_count": 10,
   "id": "a3ab0bf7-0d93-4616-9e11-6ecc20a85d66",
   "metadata": {},
   "outputs": [
    {
     "name": "stdout",
     "output_type": "stream",
     "text": [
      "1 Criar uma nova lista de compra\n",
      "2 Caregar uma lista existente\n",
      "3 Sair\n"
     ]
    },
    {
     "name": "stdin",
     "output_type": "stream",
     "text": [
      "Escolhe uma opção:  5\n"
     ]
    },
    {
     "name": "stdout",
     "output_type": "stream",
     "text": [
      "Ops! Opção invalida\n",
      "1 Criar uma nova lista de compra\n",
      "2 Caregar uma lista existente\n",
      "3 Sair\n"
     ]
    },
    {
     "name": "stdin",
     "output_type": "stream",
     "text": [
      "Escolhe uma opção:  4\n"
     ]
    },
    {
     "name": "stdout",
     "output_type": "stream",
     "text": [
      "Ops! Opção invalida\n",
      "1 Criar uma nova lista de compra\n",
      "2 Caregar uma lista existente\n",
      "3 Sair\n"
     ]
    },
    {
     "name": "stdin",
     "output_type": "stream",
     "text": [
      "Escolhe uma opção:  3\n"
     ]
    }
   ],
   "source": [
    "import json\n",
    "import time\n",
    "# compras = {}\n",
    "\n",
    "def adicionar_item(compras, item, quantidade):\n",
    "    compras[item] = quantidade\n",
    "\n",
    "def remover_item(compras, item):\n",
    "    if item in compras:\n",
    "        del compras[item]\n",
    "    \n",
    "\n",
    "def visualizar_compras(compras):\n",
    "    for item , quantidade in compras.items():\n",
    "        print(f\"{item}: {quantidade}\")\n",
    "    print()\n",
    "    print(\"Precione Enter Para continuar\")\n",
    "    input()\n",
    "        \n",
    "\n",
    "\n",
    "def salvar_compras(compras, nome_arquivo):\n",
    "    with open(nome_arquivo, \"w\") as arquivo:\n",
    "        json.dump(compras, arquivo)\n",
    "\n",
    "\n",
    "def carregar_compras(nome_arquivo):\n",
    "    with open(nome_arquivo, \"r\") as arquivo:\n",
    "        return json.load(arquivo)\n",
    "    \n",
    "\n",
    "\n",
    "def gerenciar_compras(compras, nome_arquivo=None):\n",
    "    while True:\n",
    "        print(\"1 Adicionar item\")\n",
    "        print(\"2 Remover item\")\n",
    "        print(\"3 Vizualizar Lista\")\n",
    "        print(\"4 Salvar e Sair\")\n",
    "        print(\"5 Sair sem salvar\")\n",
    "        escolha2 = input(\"Escolhe uma opção: \")\n",
    "        \n",
    "        if escolha2 == \"1\":\n",
    "            nome_item = input(\"Digite nome do Item: \")\n",
    "            quantidade_item = float(input(\"Digite quantidade do Item: \"))\n",
    "            adicionar_item(compras, nome_item, quantidade_item)\n",
    "   \n",
    "        elif escolha2 == \"2\":\n",
    "            itemdeletar = input(\"Digite item que deseja excluir: \")\n",
    "            remover_item(compras, itemdeletar)\n",
    "            time.sleep(2)\n",
    "            \n",
    "        elif escolha2 == \"3\":\n",
    "            visualizar_compras(compras)\n",
    "            \n",
    "        elif escolha2 == \"4\":\n",
    "            if nome_arquivo is None:\n",
    "                nome_arquivo = input(\"Digite nome do arquivo: \")\n",
    "            if not nome_arquivo.endswith(\".json\"):\n",
    "                nome_arquivo += \".json\"\n",
    "            salvar_compras(compras, nome_arquivo)\n",
    "            break\n",
    "            \n",
    "            \n",
    "        elif escolha2 == \"5\":\n",
    "            break\n",
    "        else:\n",
    "            print(\"Ops! Escolha Inválida\")\n",
    "            time.sleep(2)\n",
    "\n",
    "def main():\n",
    "    while True:\n",
    "        print(\"1 Criar uma nova lista de compra\")\n",
    "        print(\"2 Caregar uma lista existente\")\n",
    "        print(\"3 Sair\")\n",
    "        escolha = input(\"Escolhe uma opção: \")\n",
    "        if escolha == \"1\":\n",
    "            compras = {}\n",
    "            gerenciar_compras(compras)\n",
    "         \n",
    "        elif escolha == \"2\":\n",
    "            pass\n",
    "        elif escolha == \"3\":\n",
    "            break\n",
    "        else:\n",
    "            print(\"Ops! Opção invalida\")\n",
    "            time.sleep(2)\n",
    "\n",
    "main()"
   ]
  },
  {
   "cell_type": "code",
   "execution_count": 4,
   "id": "fbb55c03-f9b4-4b15-8d58-06be4d6481f8",
   "metadata": {},
   "outputs": [
    {
     "name": "stdout",
     "output_type": "stream",
     "text": [
      "{'Arroz': 10, 'Banana': 5, 'Feijão': 19, 'Batata': 29}\n"
     ]
    }
   ],
   "source": [
    "dicionario_teste = {}\n",
    "dicionario_teste[\"Arroz\"] = 10\n",
    "dicionario_teste[\"Banana\"] = 5\n",
    "dicionario_teste[\"Feijão\"] = 19\n",
    "dicionario_teste[\"Batata\"] = 29\n",
    "\n",
    "print(dicionario_teste)"
   ]
  },
  {
   "cell_type": "code",
   "execution_count": 6,
   "id": "42c6178c-00a0-4502-951e-6bfaff61adc1",
   "metadata": {},
   "outputs": [],
   "source": [
    "with open(\"dicionário_teste.json\", \"w\") as arquivo:\n",
    "    json.dump(dicionario_teste, arquivo)\n",
    "\n"
   ]
  },
  {
   "cell_type": "code",
   "execution_count": 8,
   "id": "8db8d704-444f-4e34-9ade-706d513e35fa",
   "metadata": {},
   "outputs": [
    {
     "name": "stdout",
     "output_type": "stream",
     "text": [
      "{'Arroz': 10, 'Banana': 5, 'Feijão': 19, 'Batata': 29}\n"
     ]
    }
   ],
   "source": [
    "with open(\"dicionário_teste.json\", \"r\") as arquivo:\n",
    "    dicionario_leitura = json.load(arquivo)\n",
    "\n",
    "print(dicionario_leitura)"
   ]
  }
 ],
 "metadata": {
  "kernelspec": {
   "display_name": "Python 3 (ipykernel)",
   "language": "python",
   "name": "python3"
  },
  "language_info": {
   "codemirror_mode": {
    "name": "ipython",
    "version": 3
   },
   "file_extension": ".py",
   "mimetype": "text/x-python",
   "name": "python",
   "nbconvert_exporter": "python",
   "pygments_lexer": "ipython3",
   "version": "3.12.7"
  }
 },
 "nbformat": 4,
 "nbformat_minor": 5
}
